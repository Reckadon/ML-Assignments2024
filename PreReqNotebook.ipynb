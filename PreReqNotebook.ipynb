{
  "nbformat": 4,
  "nbformat_minor": 0,
  "metadata": {
    "colab": {
      "provenance": [],
      "collapsed_sections": [
        "X2YUuEsntYwX",
        "vGBS5o8wtdQq",
        "2npTpB_wvp1T",
        "PFi56UL-48VT",
        "KauGbwxW8sFe",
        "tbhQMCAJIYvV",
        "Qls7fR3OL_po",
        "exXc9IZ9NxRo",
        "Lg12VGJMOPSX",
        "_qkQ2p1vz-kh",
        "U_U9AEu5O1Jw",
        "fJ4xA_bX0JNP"
      ]
    },
    "kernelspec": {
      "name": "python3",
      "display_name": "Python 3"
    },
    "language_info": {
      "name": "python"
    }
  },
  "cells": [
    {
      "cell_type": "markdown",
      "source": [
        "## ES 335 - Machine Learning\n",
        "### Prerequsite test\n"
      ],
      "metadata": {
        "id": "u_IUt33HtVku"
      }
    },
    {
      "cell_type": "code",
      "source": [
        "import time\n",
        "import numpy as np\n",
        "import jax\n",
        "import jax.numpy as jnp\n",
        "import math\n",
        "import sympy as sp\n",
        "import matplotlib.pyplot as plt\n",
        "import pandas as pd"
      ],
      "metadata": {
        "id": "13m8u4Ytr_sB"
      },
      "execution_count": 1,
      "outputs": []
    },
    {
      "cell_type": "markdown",
      "source": [
        "#### 1) How many multiplications and additions do you need to perform a matrix multiplication between a (n, k) and (k, m) matrix? Explain."
      ],
      "metadata": {
        "id": "X2YUuEsntYwX"
      }
    },
    {
      "cell_type": "markdown",
      "source": [
        "Let us consider 2 matrices $A$ and $B$, where $A$ is a matrix of shape $(n, k)$ and $B$ is a matrix with shape $(k, m)$. The result matrix $C$ will be of shape $(n, m)$.\n",
        "Each row of $A$ and each column of $B$ will be evaluated in a SUM OF PRODUCTS fashion to result in matrix $C$, for example,\n",
        "\n",
        "$$ a_{1,1} \\times b_{1,1} +  a_{1,2} \\times b_{2,1} + a_{1,3} \\times b_{3,1} + .... + a_{1,k} \\times b_{k,1} = c_{1,1}$$\n",
        "more generally,\n",
        "$$ a_{i,1} \\times b_{1,j} +  a_{i,2} \\times b_{2,j} + a_{i,3} \\times b_{3,j} + .... + a_{i,k} \\times b_{k,j} = c_{i,j} $$\n",
        "where $a, b, c$ are elements of matrices $A, B$ and $C$ respectively with the notation $a_{i,j}$ denoting element at row $i$ and column $j$\n",
        "\n",
        "Such operations will be performed for each element $c$ of matrix $C$\n",
        "\n",
        "Each such element $c$'s calculation involves $k$ multiplications and $k-1$ additions\n",
        "\n",
        "Therefore, the whole multiplication process involves $n\\times m\\times k$ multiplications and $n\\times m\\times(k-1)$ additions, since $C$ has $n\\times m$ elements."
      ],
      "metadata": {
        "id": "zWw8XKRotbRi"
      }
    },
    {
      "cell_type": "markdown",
      "source": [
        "#### 2) Write Python code to multiply the above two matrices. Solve using list of lists and then use numpy. Compare the timing of both solutions. Which one is faster? Why?\n"
      ],
      "metadata": {
        "id": "vGBS5o8wtdQq"
      }
    },
    {
      "cell_type": "code",
      "execution_count": null,
      "metadata": {
        "colab": {
          "base_uri": "https://localhost:8080/"
        },
        "id": "vdkaVEV3r2Kh",
        "outputId": "e7eb9f7b-9aaf-4221-a412-c6fa564409db"
      },
      "outputs": [
        {
          "output_type": "stream",
          "name": "stdout",
          "text": [
            "For vanilla implementation = 0.1399517059326172 seconds\n",
            "For numpy implementation = 0.08606910705566406 seconds\n"
          ]
        }
      ],
      "source": [
        "# matrix A of shape (3x3)[nxk] and B of shape (3,2)[kxm], which will result in C of shape (3x2)[nxm]\n",
        "\n",
        "# multiplying using list of lists, vanilla python\n",
        "\n",
        "A = [[1,2,3], [4,5,6], [7,8,9]]\n",
        "B = [[1,2], [3,4], [5,6]]\n",
        "C = []\n",
        "\n",
        "start_time = time.time()\n",
        "\n",
        "for i in range(len(A)):            # n times\n",
        "    row = []\n",
        "    for j in range(len(B[0])):     # m times\n",
        "        elem = 0\n",
        "        for k in range(len(B)):    # k times\n",
        "            prod = A[i][k]* B[k][j]\n",
        "            elem += prod\n",
        "        row.append(elem)\n",
        "    C.append(row)       # -> n rows\n",
        "\n",
        "end_time = time.time()\n",
        "runtime = end_time - start_time\n",
        "\n",
        "print(\"For vanilla implementation =\",runtime * 1000, \"seconds\")\n",
        "\n",
        "# multiplying using numpy arrays and numpy dot function\n",
        "A_np = np.array(A)\n",
        "B_np = np.array(B)\n",
        "\n",
        "start_time = time.time()\n",
        "\n",
        "C_np = np.dot(A_np, B_np)\n",
        "\n",
        "end_time = time.time()\n",
        "runtime = end_time - start_time\n",
        "\n",
        "print(\"For numpy implementation =\",runtime * 1000, \"seconds\")\n"
      ]
    },
    {
      "cell_type": "markdown",
      "source": [
        "The numpy implementation is faster because numpy is itself written in C. Numpy arrays are more static and homogeneous in nature like other statically typed languages (eg. C or C++) and the elements of a numpy array are stored next to each other in the memory; unlike python lists which are more dynamic in nature, being able to accommodate data of any data type and allocated memory dynamically. Numpy also takes advantage of parallelism to speed up the execution."
      ],
      "metadata": {
        "id": "4X9Xw4fnuKFR"
      }
    },
    {
      "cell_type": "markdown",
      "source": [
        "#### 3) Finding the highest element in a list requires one pass of the array. Finding the second highest element requires 2 passes of the the array. Using this method, what is the time complexity of finding the median of the array? Can you suggest a better method? Can you implement both these methods in Python and compare against numpy.median routine in terms of time?\n"
      ],
      "metadata": {
        "id": "2npTpB_wvp1T"
      }
    },
    {
      "cell_type": "markdown",
      "source": [
        "The time complexity of finding the median of the array using the first method will be:\n",
        "\n",
        "If $n$ = odd, we need to make $(n+1)/2$ passes over the array. And, each pass has a time complexity of $O(n)$. Therefore, total time complexity is:\n",
        "$$n/2 \\times O(n) = O(n^2)$$\n",
        "\n",
        "If $n$ = even, we need to make $(n/2) + 1$ passes over the array. And, each pass has a time complexity of $O(n)$. Therefore, total time complexity is:\n",
        "$$n/2 \\times O(n) = O(n^2)$$\n",
        "\n",
        "So, in either case, time complexity is $O(n^2)$."
      ],
      "metadata": {
        "id": "FZmBzjzcwLqM"
      }
    },
    {
      "cell_type": "code",
      "source": [
        "# first method\n",
        "def find_kth_largest(arr, k):\n",
        "    n = len(arr)\n",
        "    largest_elements = []\n",
        "\n",
        "    for _ in range(k):\n",
        "        max_val = float('-inf')\n",
        "        max_index = -1\n",
        "        for i in range(n):\n",
        "            if arr[i] > max_val and (i not in largest_elements):\n",
        "                max_val = arr[i]\n",
        "                max_index = i\n",
        "        largest_elements.append(max_index)\n",
        "\n",
        "    return arr[largest_elements[-1]]\n",
        "\n",
        "def find_median(arr):\n",
        "    n = len(arr)\n",
        "    if n % 2 == 1:\n",
        "        median_pos = n // 2 + 1  # for odd length, find the middle element\n",
        "        median = find_kth_largest(arr, median_pos)\n",
        "    else:\n",
        "        median_pos1 = n // 2  # for even length, find the two middle elements\n",
        "        median_pos2 = median_pos1 + 1\n",
        "        median1 = find_kth_largest(arr, median_pos1)\n",
        "        median2 = find_kth_largest(arr, median_pos2)\n",
        "        median = (median1 + median2) / 2\n",
        "\n",
        "    return median\n",
        "\n",
        "arr = [3, 1, 4, 1, 5, 9, 2, 6, 5, 3, 5]\n",
        "\n",
        "start_time = time.time()\n",
        "\n",
        "median = find_median(arr)\n",
        "\n",
        "end_time = time.time()\n",
        "runtime = end_time - start_time\n",
        "\n",
        "print(\"Median:\", median)\n",
        "print(\"runtime:\", runtime)"
      ],
      "metadata": {
        "colab": {
          "base_uri": "https://localhost:8080/"
        },
        "id": "eGe1YKddvm0j",
        "outputId": "dbfe52df-a64c-4757-f7c8-d5bd2fcebf98"
      },
      "execution_count": null,
      "outputs": [
        {
          "output_type": "stream",
          "name": "stdout",
          "text": [
            "Median: 4\n",
            "runtime: 8.320808410644531e-05\n"
          ]
        }
      ]
    },
    {
      "cell_type": "markdown",
      "source": [
        "A better method can be to sort the given array first using Quick Sort algorithmm, and then access the required elements (depending on if n is even or odd) to get the median of the array.\n",
        "\n",
        "Time complexity would be the time complexity of Quick Sort: $nlog(n)$"
      ],
      "metadata": {
        "id": "Twqkbiw801Fx"
      }
    },
    {
      "cell_type": "code",
      "source": [
        "# a better method using quick sort\n",
        "def quick_sort(arr):\n",
        "    if len(arr) <= 1:\n",
        "        return arr\n",
        "    else:\n",
        "        pivot = arr[len(arr) // 2]\n",
        "        left = [x for x in arr if x < pivot]\n",
        "        middle = [x for x in arr if x == pivot]\n",
        "        right = [x for x in arr if x > pivot]\n",
        "        return quick_sort(left) + middle + quick_sort(right)\n",
        "\n",
        "def find_median(arr):\n",
        "    n = len(arr)\n",
        "    sorted_arr = quick_sort(arr)\n",
        "    if n % 2 == 1:\n",
        "        median_pos = n // 2 + 1  # for odd length, get the middle element\n",
        "        median = sorted_arr[median_pos - 1]\n",
        "    else:\n",
        "        median_pos1 = n // 2  # for even length, find the two middle elements\n",
        "        median_pos2 = median_pos1 + 1\n",
        "        median1 = sorted_arr[median_pos1 - 1]\n",
        "        median2 = sorted_arr[median_pos2 - 1]\n",
        "        median = (median1 + median2) / 2\n",
        "\n",
        "    return median\n",
        "\n",
        "arr = [3, 1, 4, 1, 5, 9, 2, 6, 5, 3, 5]\n",
        "\n",
        "start_time = time.time()\n",
        "\n",
        "median = find_median(arr)\n",
        "\n",
        "end_time = time.time()\n",
        "runtime = end_time - start_time\n",
        "\n",
        "print(\"Median:\", median)\n",
        "print(\"runtime:\", runtime)\n"
      ],
      "metadata": {
        "colab": {
          "base_uri": "https://localhost:8080/"
        },
        "id": "K18vLVuD0qyT",
        "outputId": "07bd31f5-7e75-4121-f0db-8449e7bd61a7"
      },
      "execution_count": null,
      "outputs": [
        {
          "output_type": "stream",
          "name": "stdout",
          "text": [
            "Median: 4\n",
            "runtime: 7.843971252441406e-05\n"
          ]
        }
      ]
    },
    {
      "cell_type": "markdown",
      "source": [
        "Now, using numpy.median routine to find the median of the same array:"
      ],
      "metadata": {
        "id": "KhNCSXqj4M_M"
      }
    },
    {
      "cell_type": "code",
      "source": [
        "start_time = time.time()\n",
        "\n",
        "median = np.median(np.array(arr))\n",
        "\n",
        "end_time = time.time()\n",
        "runtime = end_time - start_time\n",
        "\n",
        "print(\"Median:\", median)\n",
        "print(\"runtime:\", runtime)"
      ],
      "metadata": {
        "colab": {
          "base_uri": "https://localhost:8080/"
        },
        "id": "T21bWxQO2R0P",
        "outputId": "5b09f2f7-2325-44ee-b756-0b6e8393e9c3"
      },
      "execution_count": null,
      "outputs": [
        {
          "output_type": "stream",
          "name": "stdout",
          "text": [
            "Median: 4.0\n",
            "runtime: 0.0004837512969970703\n"
          ]
        }
      ]
    },
    {
      "cell_type": "markdown",
      "source": [
        "The numpy method consistently takes more execution time for the selected example, but it will be faster as the size of the array grows."
      ],
      "metadata": {
        "id": "emBrBblD4t8-"
      }
    },
    {
      "cell_type": "markdown",
      "source": [
        "#### 4) What is the gradient of the following function with respect to x and y?\n",
        "$$x^2 y + y^3 sin(x)$$\n"
      ],
      "metadata": {
        "id": "PFi56UL-48VT"
      }
    },
    {
      "cell_type": "markdown",
      "source": [
        "Gradient of function F of $x$ and $y$ is defined as:\n",
        "\n",
        "$$\\nabla F(\\mathbf{x}) = \\left[ \\frac{\\partial F}{\\partial x}, \\frac{\\partial F}{\\partial y} \\right]\n",
        "$$\n",
        "\n",
        "In more general words, the gradient is a vector of the form:\n",
        "\n",
        "$$\n",
        "\\nabla f(\\mathbf{x}) = \\begin{bmatrix}\n",
        "\\frac{\\partial f}{\\partial x_1} \\\\\n",
        "\\frac{\\partial f}{\\partial x_2} \\\\\n",
        "\\vdots \\\\\n",
        "\\frac{\\partial f}{\\partial x_n}\n",
        "\\end{bmatrix}\n",
        "$$"
      ],
      "metadata": {
        "id": "ZZLXgGPn5Kbz"
      }
    },
    {
      "cell_type": "markdown",
      "source": [
        "Therefore, for the given function, the gradient will be:\n",
        "$$\\nabla F(x,y) =\n",
        "\\begin{bmatrix}\n",
        "\\frac{\\partial (x^2 y + y^3 sin(x))}{\\partial x} \\\\\n",
        "\\frac{\\partial (x^2 y + y^3 sin(x))}{\\partial y} \\\\\n",
        "\\end{bmatrix} $$\n",
        "$$ ⇒ \\nabla F(x,y) =\n",
        "\\begin{bmatrix}\n",
        "\\ 2xy + y^3 cos(x) \\\\\n",
        "\\ x^2 + 3y^2 sin(x) \\\\\n",
        "\\end{bmatrix}$$"
      ],
      "metadata": {
        "id": "9GmwGcSj6g2H"
      }
    },
    {
      "cell_type": "markdown",
      "source": [
        "#### 5) Use `JAX` to confirm the gradient evaluated by your method matches the analytical solution corresponding to a few random values of x and y\n",
        "\n"
      ],
      "metadata": {
        "id": "KauGbwxW8sFe"
      }
    },
    {
      "cell_type": "code",
      "source": [
        "def f(x, y):\n",
        "  return (x**2 * y) + y**3 * jnp.sin(x)\n",
        "\n",
        "def analytical_df_dx(x, y):\n",
        "  return 2*x*y + y**3 * math.cos(x)\n",
        "\n",
        "def analytical_df_dy(x, y):\n",
        "  return x**2 + 3*y**2 * math.sin(x)\n",
        "\n",
        "def analytical_grad(x, y):\n",
        "  return (analytical_df_dx(x, y), analytical_df_dy(x, y))\n",
        "\n",
        "def jax_grad(x, y):\n",
        "  jax_df_dx = jax.grad(f, argnums=0) #for differentiating wrt x\n",
        "  jax_df_dy = jax.grad(f, argnums=1) #for differentiating wrt y\n",
        "  return float(jax_df_dx(x, y)), float(jax_df_dy(x, y))\n",
        "\n",
        "x = 1.0\n",
        "y = 2.0\n",
        "print(jax_grad(x, y))\n",
        "print(analytical_grad(x, y))\n",
        "x = 5.0\n",
        "y = 4.0\n",
        "print(jax_grad(x, y))\n",
        "print(analytical_grad(x, y))\n",
        "x = 10.0\n",
        "y = 5.0\n",
        "print(jax_grad(x, y))\n",
        "print(analytical_grad(x, y))\n",
        "# print(analytical_grad(1.0,2.0), jax_grad(1.0, 2.0))"
      ],
      "metadata": {
        "colab": {
          "base_uri": "https://localhost:8080/"
        },
        "id": "_qkK3MaZ44bs",
        "outputId": "8e4315fe-179f-4cc5-eb24-21d51c82397e"
      },
      "execution_count": null,
      "outputs": [
        {
          "output_type": "stream",
          "name": "stdout",
          "text": [
            "(8.322418212890625, 11.097651481628418)\n",
            "(8.322418446945118, 11.097651817694757)\n",
            "(58.154380798339844, -21.028366088867188)\n",
            "(58.154379869646476, -21.028365183830644)\n",
            "(-4.883941650390625, 59.19841384887695)\n",
            "(-4.883941134556551, 59.19841668329727)\n"
          ]
        }
      ]
    },
    {
      "cell_type": "markdown",
      "source": [
        "As we can see, we get very close values of gradient for the function using `JAX` and analytical approaches"
      ],
      "metadata": {
        "id": "VSKvhnMEHoFi"
      }
    },
    {
      "cell_type": "markdown",
      "source": [
        "#### 6) Use `sympy` to confirm that you obtain the same gradient analytically.\n",
        "\n"
      ],
      "metadata": {
        "id": "tbhQMCAJIYvV"
      }
    },
    {
      "cell_type": "code",
      "source": [
        "x, y = sp.symbols('x y')\n",
        "\n",
        "f = x**2 * y + y**3 * sp.sin(x)\n",
        "\n",
        "print(\"Gradient: [\",sp.diff(f, x),\",\",sp.diff(f, y),\"]\")"
      ],
      "metadata": {
        "colab": {
          "base_uri": "https://localhost:8080/"
        },
        "id": "MZN9D-twIZnH",
        "outputId": "5cce4cf5-4c7c-4417-fa06-4cb0e5eee920"
      },
      "execution_count": null,
      "outputs": [
        {
          "output_type": "stream",
          "name": "stdout",
          "text": [
            "Gradient: [ 2*x*y + y**3*cos(x) , x**2 + 3*y**2*sin(x) ]\n"
          ]
        }
      ]
    },
    {
      "cell_type": "markdown",
      "source": [
        "We can see that we get the same analytical expression of the gradient as we found previously."
      ],
      "metadata": {
        "id": "DLH5PXXKLsPW"
      }
    },
    {
      "cell_type": "markdown",
      "source": [
        "#### 7) Create a Python nested dictionary to represent hierarchical information. We want to store record of students and their marks. Something like: (not showing here)\n",
        "\n"
      ],
      "metadata": {
        "id": "Qls7fR3OL_po"
      }
    },
    {
      "cell_type": "code",
      "source": [
        "data = {'2022':{'Branch 1':{'Roll number':1, 'Name':'N', 'Marks':{'Maths':100, 'English': 70}}, 'Branch 2':{}},\n",
        "        '2023':{'Branch 1':{}, 'Branch 2':{}},\n",
        "        '2024':{'Branch 1':{}, 'Branch 2':{}},\n",
        "        '2025':{'Branch 1':{}, 'Branch 2':{}}}\n",
        "data"
      ],
      "metadata": {
        "colab": {
          "base_uri": "https://localhost:8080/"
        },
        "id": "7i8OJqgSKtA_",
        "outputId": "c553e104-f108-43f7-8a15-1c3a2ee2b867"
      },
      "execution_count": null,
      "outputs": [
        {
          "output_type": "execute_result",
          "data": {
            "text/plain": [
              "{'2022': {'Branch 1': {'Roll number': 1,\n",
              "   'Name': 'N',\n",
              "   'Marks': {'Maths': 100, 'English': 70}},\n",
              "  'Branch 2': {}},\n",
              " '2023': {'Branch 1': {}, 'Branch 2': {}},\n",
              " '2024': {'Branch 1': {}, 'Branch 2': {}},\n",
              " '2025': {'Branch 1': {}, 'Branch 2': {}}}"
            ]
          },
          "metadata": {},
          "execution_count": 105
        }
      ]
    },
    {
      "cell_type": "code",
      "source": [
        "# using random data from chatGPT\n",
        "data = {\n",
        "    '2022': {\n",
        "        'Branch 1': {\n",
        "            'Roll number': 1,\n",
        "            'Name': 'A',\n",
        "            'Marks': {'Maths': 85, 'English': 92}\n",
        "        },\n",
        "        'Branch 2': {\n",
        "            'Roll number': 2,\n",
        "            'Name': 'B',\n",
        "            'Marks': {'Maths': 78, 'English': 88}\n",
        "        }\n",
        "    },\n",
        "    '2023': {\n",
        "        'Branch 1': {\n",
        "            'Roll number': 3,\n",
        "            'Name': 'C',\n",
        "            'Marks': {'Maths': 90, 'English': 75}\n",
        "        },\n",
        "        'Branch 2': {\n",
        "            'Roll number': 4,\n",
        "            'Name': 'D',\n",
        "            'Marks': {'Maths': 95, 'English': 80}\n",
        "        }\n",
        "    },\n",
        "    '2024': {\n",
        "        'Branch 1': {\n",
        "            'Roll number': 5,\n",
        "            'Name': 'E',\n",
        "            'Marks': {'Maths': 88, 'English': 78}\n",
        "        },\n",
        "        'Branch 2': {\n",
        "            'Roll number': 6,\n",
        "            'Name': 'F',\n",
        "            'Marks': {'Maths': 70, 'English': 85}\n",
        "        }\n",
        "    },\n",
        "    '2025': {\n",
        "        'Branch 1': {\n",
        "            'Roll number': 7,\n",
        "            'Name': 'G',\n",
        "            'Marks': {'Maths': 82, 'English': 89}\n",
        "        },\n",
        "        'Branch 2': {\n",
        "            'Roll number': 8,\n",
        "            'Name': 'H',\n",
        "            'Marks': {'Maths': 76, 'English': 90}\n",
        "        }\n",
        "    }\n",
        "}\n",
        "\n",
        "data"
      ],
      "metadata": {
        "colab": {
          "base_uri": "https://localhost:8080/"
        },
        "id": "A_QYOlszNxll",
        "outputId": "650a2b61-2929-47ef-d792-f5bcd06a33ad"
      },
      "execution_count": null,
      "outputs": [
        {
          "output_type": "execute_result",
          "data": {
            "text/plain": [
              "{'2022': {'Branch 1': {'Roll number': 1,\n",
              "   'Name': 'A',\n",
              "   'Marks': {'Maths': 85, 'English': 92}},\n",
              "  'Branch 2': {'Roll number': 2,\n",
              "   'Name': 'B',\n",
              "   'Marks': {'Maths': 78, 'English': 88}}},\n",
              " '2023': {'Branch 1': {'Roll number': 3,\n",
              "   'Name': 'C',\n",
              "   'Marks': {'Maths': 90, 'English': 75}},\n",
              "  'Branch 2': {'Roll number': 4,\n",
              "   'Name': 'D',\n",
              "   'Marks': {'Maths': 95, 'English': 80}}},\n",
              " '2024': {'Branch 1': {'Roll number': 5,\n",
              "   'Name': 'E',\n",
              "   'Marks': {'Maths': 88, 'English': 78}},\n",
              "  'Branch 2': {'Roll number': 6,\n",
              "   'Name': 'F',\n",
              "   'Marks': {'Maths': 70, 'English': 85}}},\n",
              " '2025': {'Branch 1': {'Roll number': 7,\n",
              "   'Name': 'G',\n",
              "   'Marks': {'Maths': 82, 'English': 89}},\n",
              "  'Branch 2': {'Roll number': 8,\n",
              "   'Name': 'H',\n",
              "   'Marks': {'Maths': 76, 'English': 90}}}}"
            ]
          },
          "metadata": {},
          "execution_count": 106
        }
      ]
    },
    {
      "cell_type": "markdown",
      "source": [
        "#### 8) Store the same information using Python classes. We have an overall database which is a list of year objects. Each year contains a list of branches. Each branch contains a list of students. Each student has some properties like name, roll number and has marks in some subjects.\n",
        "\n"
      ],
      "metadata": {
        "id": "exXc9IZ9NxRo"
      }
    },
    {
      "cell_type": "code",
      "source": [
        "class Student:\n",
        "  def __init__(self, name, roll, marks):\n",
        "    self.name = name\n",
        "    self.roll = roll\n",
        "    self.marks = marks\n",
        "\n",
        "class Branch:\n",
        "  def __init__(self, name):\n",
        "    self.name = name\n",
        "    self.students = []\n",
        "\n",
        "  def add_student(self, student):\n",
        "    self.students.append(student)\n",
        "\n",
        "class Year:\n",
        "  def __init__(self, year):\n",
        "    self.year = year\n",
        "    CSE, Mech, MSE = Branch('CSE'), Branch('Mech'), Branch('MSE')\n",
        "    self.branches = [CSE, Mech, MSE]\n",
        "\n",
        "  def add_branch(self, branch):\n",
        "    self.branches.append(branch)\n",
        "\n",
        "\n",
        "Year22, Year23, Year24, Year25 = Year('2022'), Year('2023'), Year('2024'), Year('2025')\n",
        "database = [Year22, Year23, Year24, Year25]\n",
        "n = Student('N', 32, {'Maths':89, 'English':99})\n",
        "database[0].branches[0].add_student(n)\n",
        "database[0].branches[0].students[0].name"
      ],
      "metadata": {
        "colab": {
          "base_uri": "https://localhost:8080/",
          "height": 36
        },
        "id": "B7gdtJHMObhD",
        "outputId": "610b3c23-194e-415e-ab69-0950f44f85a8"
      },
      "execution_count": null,
      "outputs": [
        {
          "output_type": "execute_result",
          "data": {
            "text/plain": [
              "'N'"
            ],
            "application/vnd.google.colaboratory.intrinsic+json": {
              "type": "string"
            }
          },
          "metadata": {},
          "execution_count": 113
        }
      ]
    },
    {
      "cell_type": "markdown",
      "source": [
        "With these python classes, we can store information as above in a database."
      ],
      "metadata": {
        "id": "J-fJrduARm7_"
      }
    },
    {
      "cell_type": "markdown",
      "source": [
        "#### 9) Using matplotlib plot the following functions on the domain: x = 0.5 to 100.0 in steps of 0.5.\n",
        "\n"
      ],
      "metadata": {
        "id": "Lg12VGJMOPSX"
      }
    },
    {
      "cell_type": "code",
      "source": [
        "x = np.arange(0.5, 100.5, 0.5)\n"
      ],
      "metadata": {
        "id": "zwdPhibNTA0R"
      },
      "execution_count": null,
      "outputs": []
    },
    {
      "cell_type": "markdown",
      "source": [
        "1.   $y = x$\n",
        "\n"
      ],
      "metadata": {
        "id": "xyS7qpiGR4pR"
      }
    },
    {
      "cell_type": "code",
      "source": [
        "y = x\n",
        "plt.plot(y, x)"
      ],
      "metadata": {
        "colab": {
          "base_uri": "https://localhost:8080/",
          "height": 448
        },
        "id": "IRaCUNDRR2_y",
        "outputId": "d125a6e0-2e37-42c1-ec86-82fdac714e04"
      },
      "execution_count": null,
      "outputs": [
        {
          "output_type": "execute_result",
          "data": {
            "text/plain": [
              "[<matplotlib.lines.Line2D at 0x784c7b5e1ff0>]"
            ]
          },
          "metadata": {},
          "execution_count": 122
        },
        {
          "output_type": "display_data",
          "data": {
            "text/plain": [
              "<Figure size 640x480 with 1 Axes>"
            ],
            "image/png": "[encoded data removed]"
          },
          "metadata": {}
        }
      ]
    },
    {
      "cell_type": "markdown",
      "source": [
        "2.   $y = x^2$\n",
        "\n"
      ],
      "metadata": {
        "id": "55f8ZdlITehL"
      }
    },
    {
      "cell_type": "code",
      "source": [
        "y = x**2\n",
        "plt.plot(x, y)"
      ],
      "metadata": {
        "colab": {
          "base_uri": "https://localhost:8080/",
          "height": 448
        },
        "id": "n7sEMDoGSglw",
        "outputId": "2d0dd2a8-9267-4ae1-a94e-fd2f6670916a"
      },
      "execution_count": null,
      "outputs": [
        {
          "output_type": "execute_result",
          "data": {
            "text/plain": [
              "[<matplotlib.lines.Line2D at 0x784c7b58c910>]"
            ]
          },
          "metadata": {},
          "execution_count": 124
        },
        {
          "output_type": "display_data",
          "data": {
            "text/plain": [
              "<Figure size 640x480 with 1 Axes>"
            ],
            "image/png": "[encoded data removed]"
          },
          "metadata": {}
        }
      ]
    },
    {
      "cell_type": "markdown",
      "source": [
        "3.   $y = \\frac {x^3}{100}$"
      ],
      "metadata": {
        "id": "S8joGF-hT0Iw"
      }
    },
    {
      "cell_type": "code",
      "source": [
        "y = x**3 / 100\n",
        "plt.plot(x, y)"
      ],
      "metadata": {
        "colab": {
          "base_uri": "https://localhost:8080/",
          "height": 448
        },
        "id": "yPTQlYpzT3AX",
        "outputId": "52e0943f-02bc-4e07-c80d-eea8bf220cb2"
      },
      "execution_count": null,
      "outputs": [
        {
          "output_type": "execute_result",
          "data": {
            "text/plain": [
              "[<matplotlib.lines.Line2D at 0x784c7b5f85b0>]"
            ]
          },
          "metadata": {},
          "execution_count": 126
        },
        {
          "output_type": "display_data",
          "data": {
            "text/plain": [
              "<Figure size 640x480 with 1 Axes>"
            ],
            "image/png": "[encoded data removed]"
          },
          "metadata": {}
        }
      ]
    },
    {
      "cell_type": "markdown",
      "source": [
        "4.   $y = sin(x)$"
      ],
      "metadata": {
        "id": "IEHUuI32URgR"
      }
    },
    {
      "cell_type": "code",
      "source": [
        "plt.figure(figsize=(15,4))\n",
        "y = np.sin(x)\n",
        "plt.plot(x, y)\n",
        "plt.show()"
      ],
      "metadata": {
        "colab": {
          "base_uri": "https://localhost:8080/",
          "height": 368
        },
        "id": "HMIKvyx5UF4-",
        "outputId": "02e225e0-8dfa-44cb-c626-31ebf2a7c095"
      },
      "execution_count": null,
      "outputs": [
        {
          "output_type": "display_data",
          "data": {
            "text/plain": [
              "<Figure size 1500x400 with 1 Axes>"
            ],
            "image/png": "[encoded data removed]"
          },
          "metadata": {}
        }
      ]
    },
    {
      "cell_type": "markdown",
      "source": [
        "5.   $y = \\frac {sin(x)}{x}$"
      ],
      "metadata": {
        "id": "pR9Oakw2U9V9"
      }
    },
    {
      "cell_type": "code",
      "source": [
        "plt.figure(figsize=(8,6))\n",
        "y = np.sin(x) / x\n",
        "plt.plot(x, y)\n",
        "plt.show()"
      ],
      "metadata": {
        "colab": {
          "base_uri": "https://localhost:8080/",
          "height": 522
        },
        "id": "u8ipLyxAUdXT",
        "outputId": "f1e6c273-692b-4e77-ccf5-df513b93a909"
      },
      "execution_count": null,
      "outputs": [
        {
          "output_type": "display_data",
          "data": {
            "text/plain": [
              "<Figure size 800x600 with 1 Axes>"
            ],
            "image/png": "[encoded data removed]"
          },
          "metadata": {}
        }
      ]
    },
    {
      "cell_type": "markdown",
      "source": [
        "6.   $y = log(x)$"
      ],
      "metadata": {
        "id": "Vy4iLMCSVRon"
      }
    },
    {
      "cell_type": "code",
      "source": [
        "plt.figure(figsize=(8,6))\n",
        "y = np.log(x)\n",
        "plt.plot(x, y)\n",
        "plt.show()"
      ],
      "metadata": {
        "colab": {
          "base_uri": "https://localhost:8080/",
          "height": 522
        },
        "id": "jv3oVH7DVJ1-",
        "outputId": "9ed87a9b-938d-49f2-ed4d-b57b4f9aedef"
      },
      "execution_count": null,
      "outputs": [
        {
          "output_type": "display_data",
          "data": {
            "text/plain": [
              "<Figure size 800x600 with 1 Axes>"
            ],
            "image/png": "[encoded data removed]"
          },
          "metadata": {}
        }
      ]
    },
    {
      "cell_type": "markdown",
      "source": [
        "7.   $y = e^x$"
      ],
      "metadata": {
        "id": "roI70apmVb1K"
      }
    },
    {
      "cell_type": "code",
      "source": [
        "plt.figure(figsize=(8,8))\n",
        "y = np.exp(x)\n",
        "plt.plot(x, y)\n",
        "plt.show()"
      ],
      "metadata": {
        "colab": {
          "base_uri": "https://localhost:8080/",
          "height": 691
        },
        "id": "YWbqaiLfVYD6",
        "outputId": "76bf69d7-4c45-429b-d6c2-a292f708c216"
      },
      "execution_count": null,
      "outputs": [
        {
          "output_type": "display_data",
          "data": {
            "text/plain": [
              "<Figure size 800x800 with 1 Axes>"
            ],
            "image/png": "[encoded data removed]"
          },
          "metadata": {}
        }
      ]
    },
    {
      "cell_type": "markdown",
      "source": [
        "#### 10) Using numpy generate a matrix of size 20X5 containing random numbers drawn uniformly from the range of 1 to 2. Using Pandas create a dataframe out of this matrix. Name the columns of the dataframe as “a”, “b”, “c”, “d”, “e”. Find the column with the highest standard deviation. Find the row with the lowest mean.\n",
        "\n"
      ],
      "metadata": {
        "id": "_qkQ2p1vz-kh"
      }
    },
    {
      "cell_type": "code",
      "source": [
        "mat = np.random.rand(20,5) + 1 # shape\n",
        "# or\n",
        "mat = np.random.uniform(1,2,(20, 5)) # low, high and shape\n",
        "mat"
      ],
      "metadata": {
        "colab": {
          "base_uri": "https://localhost:8080/"
        },
        "id": "VYYKk2qLVnBo",
        "outputId": "990859af-f2b1-4f7f-f6fe-28637d811166"
      },
      "execution_count": 17,
      "outputs": [
        {
          "output_type": "execute_result",
          "data": {
            "text/plain": [
              "array([[1.80865996, 1.15506533, 1.60802234, 1.36721888, 1.19157975],\n",
              "       [1.34979778, 1.3923002 , 1.33974235, 1.29956845, 1.19530498],\n",
              "       [1.65872543, 1.62480915, 1.94940638, 1.0203346 , 1.15570404],\n",
              "       [1.46038288, 1.62926128, 1.54177874, 1.32284561, 1.53167584],\n",
              "       [1.36444008, 1.0266244 , 1.02050934, 1.4357475 , 1.27929234],\n",
              "       [1.96037166, 1.39490887, 1.12009431, 1.08952303, 1.87820134],\n",
              "       [1.8082666 , 1.73237952, 1.80026197, 1.52726633, 1.84492334],\n",
              "       [1.49951877, 1.35342849, 1.78623269, 1.86964181, 1.64615436],\n",
              "       [1.03207554, 1.52223473, 1.1395975 , 1.88671521, 1.79693484],\n",
              "       [1.68354903, 1.02498326, 1.41277017, 1.31228747, 1.93944086],\n",
              "       [1.54971204, 1.94501264, 1.10284915, 1.89789   , 1.93953278],\n",
              "       [1.78655001, 1.21174061, 1.58679443, 1.87007407, 1.09563684],\n",
              "       [1.38376024, 1.89949521, 1.61752866, 1.32985043, 1.65703511],\n",
              "       [1.06912486, 1.71347508, 1.84328887, 1.31913058, 1.2987446 ],\n",
              "       [1.47684635, 1.70656581, 1.45414689, 1.18594842, 1.62250607],\n",
              "       [1.36898364, 1.7742162 , 1.22541888, 1.25950086, 1.63881877],\n",
              "       [1.81186917, 1.4710652 , 1.32606589, 1.57252826, 1.56593902],\n",
              "       [1.18768332, 1.37039181, 1.85417614, 1.57375154, 1.73013794],\n",
              "       [1.8549877 , 1.50254708, 1.18763024, 1.4629241 , 1.21046301],\n",
              "       [1.56933683, 1.11915798, 1.39662494, 1.96729993, 1.07811039]])"
            ]
          },
          "metadata": {},
          "execution_count": 17
        }
      ]
    },
    {
      "cell_type": "code",
      "source": [
        "df = pd.DataFrame(mat)\n",
        "df = df.rename(columns={0: \"a\", 1: \"b\", 2: \"c\", 3: \"d\", 4: 'e'})\n",
        "df"
      ],
      "metadata": {
        "colab": {
          "base_uri": "https://localhost:8080/",
          "height": 676
        },
        "id": "fjP3bgUe1I7U",
        "outputId": "c0eb9170-72e9-497c-c8e1-75e4ddc96434"
      },
      "execution_count": 18,
      "outputs": [
        {
          "output_type": "execute_result",
          "data": {
            "text/plain": [
              "           a         b         c         d         e\n",
              "0   1.808660  1.155065  1.608022  1.367219  1.191580\n",
              "1   1.349798  1.392300  1.339742  1.299568  1.195305\n",
              "2   1.658725  1.624809  1.949406  1.020335  1.155704\n",
              "3   1.460383  1.629261  1.541779  1.322846  1.531676\n",
              "4   1.364440  1.026624  1.020509  1.435747  1.279292\n",
              "5   1.960372  1.394909  1.120094  1.089523  1.878201\n",
              "6   1.808267  1.732380  1.800262  1.527266  1.844923\n",
              "7   1.499519  1.353428  1.786233  1.869642  1.646154\n",
              "8   1.032076  1.522235  1.139597  1.886715  1.796935\n",
              "9   1.683549  1.024983  1.412770  1.312287  1.939441\n",
              "10  1.549712  1.945013  1.102849  1.897890  1.939533\n",
              "11  1.786550  1.211741  1.586794  1.870074  1.095637\n",
              "12  1.383760  1.899495  1.617529  1.329850  1.657035\n",
              "13  1.069125  1.713475  1.843289  1.319131  1.298745\n",
              "14  1.476846  1.706566  1.454147  1.185948  1.622506\n",
              "15  1.368984  1.774216  1.225419  1.259501  1.638819\n",
              "16  1.811869  1.471065  1.326066  1.572528  1.565939\n",
              "17  1.187683  1.370392  1.854176  1.573752  1.730138\n",
              "18  1.854988  1.502547  1.187630  1.462924  1.210463\n",
              "19  1.569337  1.119158  1.396625  1.967300  1.078110"
            ],
            "text/html": [
              "\n",
              "  <div id=\"df-12962123-89c6-47d7-bc6a-9b96845e2b65\" class=\"colab-df-container\">\n",
              "    <div>\n",
              "<style scoped>\n",
              "    .dataframe tbody tr th:only-of-type {\n",
              "        vertical-align: middle;\n",
              "    }\n",
              "\n",
              "    .dataframe tbody tr th {\n",
              "        vertical-align: top;\n",
              "    }\n",
              "\n",
              "    .dataframe thead th {\n",
              "        text-align: right;\n",
              "    }\n",
              "</style>\n",
              "<table border=\"1\" class=\"dataframe\">\n",
              "  <thead>\n",
              "    <tr style=\"text-align: right;\">\n",
              "      <th></th>\n",
              "      <th>a</th>\n",
              "      <th>b</th>\n",
              "      <th>c</th>\n",
              "      <th>d</th>\n",
              "      <th>e</th>\n",
              "    </tr>\n",
              "  </thead>\n",
              "  <tbody>\n",
              "    <tr>\n",
              "      <th>0</th>\n",
              "      <td>1.808660</td>\n",
              "      <td>1.155065</td>\n",
              "      <td>1.608022</td>\n",
              "      <td>1.367219</td>\n",
              "      <td>1.191580</td>\n",
              "    </tr>\n",
              "    <tr>\n",
              "      <th>1</th>\n",
              "      <td>1.349798</td>\n",
              "      <td>1.392300</td>\n",
              "      <td>1.339742</td>\n",
              "      <td>1.299568</td>\n",
              "      <td>1.195305</td>\n",
              "    </tr>\n",
              "    <tr>\n",
              "      <th>2</th>\n",
              "      <td>1.658725</td>\n",
              "      <td>1.624809</td>\n",
              "      <td>1.949406</td>\n",
              "      <td>1.020335</td>\n",
              "      <td>1.155704</td>\n",
              "    </tr>\n",
              "    <tr>\n",
              "      <th>3</th>\n",
              "      <td>1.460383</td>\n",
              "      <td>1.629261</td>\n",
              "      <td>1.541779</td>\n",
              "      <td>1.322846</td>\n",
              "      <td>1.531676</td>\n",
              "    </tr>\n",
              "    <tr>\n",
              "      <th>4</th>\n",
              "      <td>1.364440</td>\n",
              "      <td>1.026624</td>\n",
              "      <td>1.020509</td>\n",
              "      <td>1.435747</td>\n",
              "      <td>1.279292</td>\n",
              "    </tr>\n",
              "    <tr>\n",
              "      <th>5</th>\n",
              "      <td>1.960372</td>\n",
              "      <td>1.394909</td>\n",
              "      <td>1.120094</td>\n",
              "      <td>1.089523</td>\n",
              "      <td>1.878201</td>\n",
              "    </tr>\n",
              "    <tr>\n",
              "      <th>6</th>\n",
              "      <td>1.808267</td>\n",
              "      <td>1.732380</td>\n",
              "      <td>1.800262</td>\n",
              "      <td>1.527266</td>\n",
              "      <td>1.844923</td>\n",
              "    </tr>\n",
              "    <tr>\n",
              "      <th>7</th>\n",
              "      <td>1.499519</td>\n",
              "      <td>1.353428</td>\n",
              "      <td>1.786233</td>\n",
              "      <td>1.869642</td>\n",
              "      <td>1.646154</td>\n",
              "    </tr>\n",
              "    <tr>\n",
              "      <th>8</th>\n",
              "      <td>1.032076</td>\n",
              "      <td>1.522235</td>\n",
              "      <td>1.139597</td>\n",
              "      <td>1.886715</td>\n",
              "      <td>1.796935</td>\n",
              "    </tr>\n",
              "    <tr>\n",
              "      <th>9</th>\n",
              "      <td>1.683549</td>\n",
              "      <td>1.024983</td>\n",
              "      <td>1.412770</td>\n",
              "      <td>1.312287</td>\n",
              "      <td>1.939441</td>\n",
              "    </tr>\n",
              "    <tr>\n",
              "      <th>10</th>\n",
              "      <td>1.549712</td>\n",
              "      <td>1.945013</td>\n",
              "      <td>1.102849</td>\n",
              "      <td>1.897890</td>\n",
              "      <td>1.939533</td>\n",
              "    </tr>\n",
              "    <tr>\n",
              "      <th>11</th>\n",
              "      <td>1.786550</td>\n",
              "      <td>1.211741</td>\n",
              "      <td>1.586794</td>\n",
              "      <td>1.870074</td>\n",
              "      <td>1.095637</td>\n",
              "    </tr>\n",
              "    <tr>\n",
              "      <th>12</th>\n",
              "      <td>1.383760</td>\n",
              "      <td>1.899495</td>\n",
              "      <td>1.617529</td>\n",
              "      <td>1.329850</td>\n",
              "      <td>1.657035</td>\n",
              "    </tr>\n",
              "    <tr>\n",
              "      <th>13</th>\n",
              "      <td>1.069125</td>\n",
              "      <td>1.713475</td>\n",
              "      <td>1.843289</td>\n",
              "      <td>1.319131</td>\n",
              "      <td>1.298745</td>\n",
              "    </tr>\n",
              "    <tr>\n",
              "      <th>14</th>\n",
              "      <td>1.476846</td>\n",
              "      <td>1.706566</td>\n",
              "      <td>1.454147</td>\n",
              "      <td>1.185948</td>\n",
              "      <td>1.622506</td>\n",
              "    </tr>\n",
              "    <tr>\n",
              "      <th>15</th>\n",
              "      <td>1.368984</td>\n",
              "      <td>1.774216</td>\n",
              "      <td>1.225419</td>\n",
              "      <td>1.259501</td>\n",
              "      <td>1.638819</td>\n",
              "    </tr>\n",
              "    <tr>\n",
              "      <th>16</th>\n",
              "      <td>1.811869</td>\n",
              "      <td>1.471065</td>\n",
              "      <td>1.326066</td>\n",
              "      <td>1.572528</td>\n",
              "      <td>1.565939</td>\n",
              "    </tr>\n",
              "    <tr>\n",
              "      <th>17</th>\n",
              "      <td>1.187683</td>\n",
              "      <td>1.370392</td>\n",
              "      <td>1.854176</td>\n",
              "      <td>1.573752</td>\n",
              "      <td>1.730138</td>\n",
              "    </tr>\n",
              "    <tr>\n",
              "      <th>18</th>\n",
              "      <td>1.854988</td>\n",
              "      <td>1.502547</td>\n",
              "      <td>1.187630</td>\n",
              "      <td>1.462924</td>\n",
              "      <td>1.210463</td>\n",
              "    </tr>\n",
              "    <tr>\n",
              "      <th>19</th>\n",
              "      <td>1.569337</td>\n",
              "      <td>1.119158</td>\n",
              "      <td>1.396625</td>\n",
              "      <td>1.967300</td>\n",
              "      <td>1.078110</td>\n",
              "    </tr>\n",
              "  </tbody>\n",
              "</table>\n",
              "</div>\n",
              "    <div class=\"colab-df-buttons\">\n",
              "\n",
              "  <div class=\"colab-df-container\">\n",
              "    <button class=\"colab-df-convert\" onclick=\"convertToInteractive('df-12962123-89c6-47d7-bc6a-9b96845e2b65')\"\n",
              "            title=\"Convert this dataframe to an interactive table.\"\n",
              "            style=\"display:none;\">\n",
              "\n",
              "  <svg xmlns=\"http://www.w3.org/2000/svg\" height=\"24px\" viewBox=\"0 -960 960 960\">\n",
              "    <path d=\"M120-120v-720h720v720H120Zm60-500h600v-160H180v160Zm220 220h160v-160H400v160Zm0 220h160v-160H400v160ZM180-400h160v-160H180v160Zm440 0h160v-160H620v160ZM180-180h160v-160H180v160Zm440 0h160v-160H620v160Z\"/>\n",
              "  </svg>\n",
              "    </button>\n",
              "\n",
              "  <style>\n",
              "    .colab-df-container {\n",
              "      display:flex;\n",
              "      gap: 12px;\n",
              "    }\n",
              "\n",
              "    .colab-df-convert {\n",
              "      background-color: #E8F0FE;\n",
              "      border: none;\n",
              "      border-radius: 50%;\n",
              "      cursor: pointer;\n",
              "      display: none;\n",
              "      fill: #1967D2;\n",
              "      height: 32px;\n",
              "      padding: 0 0 0 0;\n",
              "      width: 32px;\n",
              "    }\n",
              "\n",
              "    .colab-df-convert:hover {\n",
              "      background-color: #E2EBFA;\n",
              "      box-shadow: 0px 1px 2px rgba(60, 64, 67, 0.3), 0px 1px 3px 1px rgba(60, 64, 67, 0.15);\n",
              "      fill: #174EA6;\n",
              "    }\n",
              "\n",
              "    .colab-df-buttons div {\n",
              "      margin-bottom: 4px;\n",
              "    }\n",
              "\n",
              "    [theme=dark] .colab-df-convert {\n",
              "      background-color: #3B4455;\n",
              "      fill: #D2E3FC;\n",
              "    }\n",
              "\n",
              "    [theme=dark] .colab-df-convert:hover {\n",
              "      background-color: #434B5C;\n",
              "      box-shadow: 0px 1px 3px 1px rgba(0, 0, 0, 0.15);\n",
              "      filter: drop-shadow(0px 1px 2px rgba(0, 0, 0, 0.3));\n",
              "      fill: #FFFFFF;\n",
              "    }\n",
              "  </style>\n",
              "\n",
              "    <script>\n",
              "      const buttonEl =\n",
              "        document.querySelector('#df-12962123-89c6-47d7-bc6a-9b96845e2b65 button.colab-df-convert');\n",
              "      buttonEl.style.display =\n",
              "        google.colab.kernel.accessAllowed ? 'block' : 'none';\n",
              "\n",
              "      async function convertToInteractive(key) {\n",
              "        const element = document.querySelector('#df-12962123-89c6-47d7-bc6a-9b96845e2b65');\n",
              "        const dataTable =\n",
              "          await google.colab.kernel.invokeFunction('convertToInteractive',\n",
              "                                                    [key], {});\n",
              "        if (!dataTable) return;\n",
              "\n",
              "        const docLinkHtml = 'Like what you see? Visit the ' +\n",
              "          '<a target=\"_blank\" href=https://colab.research.google.com/notebooks/data_table.ipynb>data table notebook</a>'\n",
              "          + ' to learn more about interactive tables.';\n",
              "        element.innerHTML = '';\n",
              "        dataTable['output_type'] = 'display_data';\n",
              "        await google.colab.output.renderOutput(dataTable, element);\n",
              "        const docLink = document.createElement('div');\n",
              "        docLink.innerHTML = docLinkHtml;\n",
              "        element.appendChild(docLink);\n",
              "      }\n",
              "    </script>\n",
              "  </div>\n",
              "\n",
              "\n",
              "<div id=\"df-75d219f8-8f46-435f-bd8c-fbbe1118e927\">\n",
              "  <button class=\"colab-df-quickchart\" onclick=\"quickchart('df-75d219f8-8f46-435f-bd8c-fbbe1118e927')\"\n",
              "            title=\"Suggest charts\"\n",
              "            style=\"display:none;\">\n",
              "\n",
              "<svg xmlns=\"http://www.w3.org/2000/svg\" height=\"24px\"viewBox=\"0 0 24 24\"\n",
              "     width=\"24px\">\n",
              "    <g>\n",
              "        <path d=\"M19 3H5c-1.1 0-2 .9-2 2v14c0 1.1.9 2 2 2h14c1.1 0 2-.9 2-2V5c0-1.1-.9-2-2-2zM9 17H7v-7h2v7zm4 0h-2V7h2v10zm4 0h-2v-4h2v4z\"/>\n",
              "    </g>\n",
              "</svg>\n",
              "  </button>\n",
              "\n",
              "<style>\n",
              "  .colab-df-quickchart {\n",
              "      --bg-color: #E8F0FE;\n",
              "      --fill-color: #1967D2;\n",
              "      --hover-bg-color: #E2EBFA;\n",
              "      --hover-fill-color: #174EA6;\n",
              "      --disabled-fill-color: #AAA;\n",
              "      --disabled-bg-color: #DDD;\n",
              "  }\n",
              "\n",
              "  [theme=dark] .colab-df-quickchart {\n",
              "      --bg-color: #3B4455;\n",
              "      --fill-color: #D2E3FC;\n",
              "      --hover-bg-color: #434B5C;\n",
              "      --hover-fill-color: #FFFFFF;\n",
              "      --disabled-bg-color: #3B4455;\n",
              "      --disabled-fill-color: #666;\n",
              "  }\n",
              "\n",
              "  .colab-df-quickchart {\n",
              "    background-color: var(--bg-color);\n",
              "    border: none;\n",
              "    border-radius: 50%;\n",
              "    cursor: pointer;\n",
              "    display: none;\n",
              "    fill: var(--fill-color);\n",
              "    height: 32px;\n",
              "    padding: 0;\n",
              "    width: 32px;\n",
              "  }\n",
              "\n",
              "  .colab-df-quickchart:hover {\n",
              "    background-color: var(--hover-bg-color);\n",
              "    box-shadow: 0 1px 2px rgba(60, 64, 67, 0.3), 0 1px 3px 1px rgba(60, 64, 67, 0.15);\n",
              "    fill: var(--button-hover-fill-color);\n",
              "  }\n",
              "\n",
              "  .colab-df-quickchart-complete:disabled,\n",
              "  .colab-df-quickchart-complete:disabled:hover {\n",
              "    background-color: var(--disabled-bg-color);\n",
              "    fill: var(--disabled-fill-color);\n",
              "    box-shadow: none;\n",
              "  }\n",
              "\n",
              "  .colab-df-spinner {\n",
              "    border: 2px solid var(--fill-color);\n",
              "    border-color: transparent;\n",
              "    border-bottom-color: var(--fill-color);\n",
              "    animation:\n",
              "      spin 1s steps(1) infinite;\n",
              "  }\n",
              "\n",
              "  @keyframes spin {\n",
              "    0% {\n",
              "      border-color: transparent;\n",
              "      border-bottom-color: var(--fill-color);\n",
              "      border-left-color: var(--fill-color);\n",
              "    }\n",
              "    20% {\n",
              "      border-color: transparent;\n",
              "      border-left-color: var(--fill-color);\n",
              "      border-top-color: var(--fill-color);\n",
              "    }\n",
              "    30% {\n",
              "      border-color: transparent;\n",
              "      border-left-color: var(--fill-color);\n",
              "      border-top-color: var(--fill-color);\n",
              "      border-right-color: var(--fill-color);\n",
              "    }\n",
              "    40% {\n",
              "      border-color: transparent;\n",
              "      border-right-color: var(--fill-color);\n",
              "      border-top-color: var(--fill-color);\n",
              "    }\n",
              "    60% {\n",
              "      border-color: transparent;\n",
              "      border-right-color: var(--fill-color);\n",
              "    }\n",
              "    80% {\n",
              "      border-color: transparent;\n",
              "      border-right-color: var(--fill-color);\n",
              "      border-bottom-color: var(--fill-color);\n",
              "    }\n",
              "    90% {\n",
              "      border-color: transparent;\n",
              "      border-bottom-color: var(--fill-color);\n",
              "    }\n",
              "  }\n",
              "</style>\n",
              "\n",
              "  <script>\n",
              "    async function quickchart(key) {\n",
              "      const quickchartButtonEl =\n",
              "        document.querySelector('#' + key + ' button');\n",
              "      quickchartButtonEl.disabled = true;  // To prevent multiple clicks.\n",
              "      quickchartButtonEl.classList.add('colab-df-spinner');\n",
              "      try {\n",
              "        const charts = await google.colab.kernel.invokeFunction(\n",
              "            'suggestCharts', [key], {});\n",
              "      } catch (error) {\n",
              "        console.error('Error during call to suggestCharts:', error);\n",
              "      }\n",
              "      quickchartButtonEl.classList.remove('colab-df-spinner');\n",
              "      quickchartButtonEl.classList.add('colab-df-quickchart-complete');\n",
              "    }\n",
              "    (() => {\n",
              "      let quickchartButtonEl =\n",
              "        document.querySelector('#df-75d219f8-8f46-435f-bd8c-fbbe1118e927 button');\n",
              "      quickchartButtonEl.style.display =\n",
              "        google.colab.kernel.accessAllowed ? 'block' : 'none';\n",
              "    })();\n",
              "  </script>\n",
              "</div>\n",
              "\n",
              "  <div id=\"id_138ae6de-1a58-42b9-b092-abe71c9d55b6\">\n",
              "    <style>\n",
              "      .colab-df-generate {\n",
              "        background-color: #E8F0FE;\n",
              "        border: none;\n",
              "        border-radius: 50%;\n",
              "        cursor: pointer;\n",
              "        display: none;\n",
              "        fill: #1967D2;\n",
              "        height: 32px;\n",
              "        padding: 0 0 0 0;\n",
              "        width: 32px;\n",
              "      }\n",
              "\n",
              "      .colab-df-generate:hover {\n",
              "        background-color: #E2EBFA;\n",
              "        box-shadow: 0px 1px 2px rgba(60, 64, 67, 0.3), 0px 1px 3px 1px rgba(60, 64, 67, 0.15);\n",
              "        fill: #174EA6;\n",
              "      }\n",
              "\n",
              "      [theme=dark] .colab-df-generate {\n",
              "        background-color: #3B4455;\n",
              "        fill: #D2E3FC;\n",
              "      }\n",
              "\n",
              "      [theme=dark] .colab-df-generate:hover {\n",
              "        background-color: #434B5C;\n",
              "        box-shadow: 0px 1px 3px 1px rgba(0, 0, 0, 0.15);\n",
              "        filter: drop-shadow(0px 1px 2px rgba(0, 0, 0, 0.3));\n",
              "        fill: #FFFFFF;\n",
              "      }\n",
              "    </style>\n",
              "    <button class=\"colab-df-generate\" onclick=\"generateWithVariable('df')\"\n",
              "            title=\"Generate code using this dataframe.\"\n",
              "            style=\"display:none;\">\n",
              "\n",
              "  <svg xmlns=\"http://www.w3.org/2000/svg\" height=\"24px\"viewBox=\"0 0 24 24\"\n",
              "       width=\"24px\">\n",
              "    <path d=\"M7,19H8.4L18.45,9,17,7.55,7,17.6ZM5,21V16.75L18.45,3.32a2,2,0,0,1,2.83,0l1.4,1.43a1.91,1.91,0,0,1,.58,1.4,1.91,1.91,0,0,1-.58,1.4L9.25,21ZM18.45,9,17,7.55Zm-12,3A5.31,5.31,0,0,0,4.9,8.1,5.31,5.31,0,0,0,1,6.5,5.31,5.31,0,0,0,4.9,4.9,5.31,5.31,0,0,0,6.5,1,5.31,5.31,0,0,0,8.1,4.9,5.31,5.31,0,0,0,12,6.5,5.46,5.46,0,0,0,6.5,12Z\"/>\n",
              "  </svg>\n",
              "    </button>\n",
              "    <script>\n",
              "      (() => {\n",
              "      const buttonEl =\n",
              "        document.querySelector('#id_138ae6de-1a58-42b9-b092-abe71c9d55b6 button.colab-df-generate');\n",
              "      buttonEl.style.display =\n",
              "        google.colab.kernel.accessAllowed ? 'block' : 'none';\n",
              "\n",
              "      buttonEl.onclick = () => {\n",
              "        google.colab.notebook.generateWithVariable('df');\n",
              "      }\n",
              "      })();\n",
              "    </script>\n",
              "  </div>\n",
              "\n",
              "    </div>\n",
              "  </div>\n"
            ],
            "application/vnd.google.colaboratory.intrinsic+json": {
              "type": "dataframe",
              "variable_name": "df",
              "summary": "{\n  \"name\": \"df\",\n  \"rows\": 20,\n  \"fields\": [\n    {\n      \"column\": \"a\",\n      \"properties\": {\n        \"dtype\": \"number\",\n        \"std\": 0.26419943282144065,\n        \"min\": 1.0320755386023726,\n        \"max\": 1.9603716620220482,\n        \"num_unique_values\": 20,\n        \"samples\": [\n          1.8086599557179528,\n          1.187683315311428,\n          1.3689836420192631\n        ],\n        \"semantic_type\": \"\",\n        \"description\": \"\"\n      }\n    },\n    {\n      \"column\": \"b\",\n      \"properties\": {\n        \"dtype\": \"number\",\n        \"std\": 0.2769378764314717,\n        \"min\": 1.0249832551740403,\n        \"max\": 1.9450126363044535,\n        \"num_unique_values\": 20,\n        \"samples\": [\n          1.1550653318346567,\n          1.3703918145595102,\n          1.7742161982119453\n        ],\n        \"semantic_type\": \"\",\n        \"description\": \"\"\n      }\n    },\n    {\n      \"column\": \"c\",\n      \"properties\": {\n        \"dtype\": \"number\",\n        \"std\": 0.28466601462654223,\n        \"min\": 1.020509341645947,\n        \"max\": 1.9494063825583536,\n        \"num_unique_values\": 20,\n        \"samples\": [\n          1.608022344717839,\n          1.8541761446274914,\n          1.2254188802648738\n        ],\n        \"semantic_type\": \"\",\n        \"description\": \"\"\n      }\n    },\n    {\n      \"column\": \"d\",\n      \"properties\": {\n        \"dtype\": \"number\",\n        \"std\": 0.285496218867113,\n        \"min\": 1.0203346026572837,\n        \"max\": 1.967299929142888,\n        \"num_unique_values\": 20,\n        \"samples\": [\n          1.3672188835179857,\n          1.5737515387861012,\n          1.2595008594516588\n        ],\n        \"semantic_type\": \"\",\n        \"description\": \"\"\n      }\n    },\n    {\n      \"column\": \"e\",\n      \"properties\": {\n        \"dtype\": \"number\",\n        \"std\": 0.2983952650052659,\n        \"min\": 1.0781103887568735,\n        \"max\": 1.9395327751064078,\n        \"num_unique_values\": 20,\n        \"samples\": [\n          1.1915797501911372,\n          1.7301379380489352,\n          1.6388187718426388\n        ],\n        \"semantic_type\": \"\",\n        \"description\": \"\"\n      }\n    }\n  ]\n}"
            }
          },
          "metadata": {},
          "execution_count": 18
        }
      ]
    },
    {
      "cell_type": "code",
      "source": [
        "# for finding column with highest standard deviation\n",
        "deviations = df.std(0) # list of standard deviations of each column\n",
        "print(deviations)\n",
        "idmax = deviations.idxmax() # id of the highest value\n",
        "print(\"Column with highest standard deviation:\", idmax)"
      ],
      "metadata": {
        "colab": {
          "base_uri": "https://localhost:8080/"
        },
        "id": "GI3tyZLtMqHK",
        "outputId": "a362ca4c-14de-4be4-edb4-753f4e673a58"
      },
      "execution_count": 19,
      "outputs": [
        {
          "output_type": "stream",
          "name": "stdout",
          "text": [
            "a    0.264199\n",
            "b    0.276938\n",
            "c    0.284666\n",
            "d    0.285496\n",
            "e    0.298395\n",
            "dtype: float64\n",
            "Column with highest standard deviation: e\n"
          ]
        }
      ]
    },
    {
      "cell_type": "code",
      "source": [
        "# for finding row with the lowest mean\n",
        "means = df.mean(1) # 1 for axis value\n",
        "print(means)\n",
        "idmin = means.idxmin()\n",
        "print(\"Row with the lowest mean:\", idmin)"
      ],
      "metadata": {
        "colab": {
          "base_uri": "https://localhost:8080/"
        },
        "id": "jtY7g4TtOPM7",
        "outputId": "b7b64803-bd76-4b1a-8d8c-39403fb615dd"
      },
      "execution_count": 20,
      "outputs": [
        {
          "output_type": "stream",
          "name": "stdout",
          "text": [
            "0     1.426109\n",
            "1     1.315343\n",
            "2     1.481796\n",
            "3     1.497189\n",
            "4     1.225323\n",
            "5     1.488620\n",
            "6     1.742620\n",
            "7     1.630995\n",
            "8     1.475512\n",
            "9     1.474606\n",
            "10    1.686999\n",
            "11    1.510159\n",
            "12    1.577534\n",
            "13    1.448753\n",
            "14    1.489203\n",
            "15    1.453388\n",
            "16    1.549494\n",
            "17    1.543228\n",
            "18    1.443710\n",
            "19    1.426106\n",
            "dtype: float64\n",
            "Row with the lowest mean: 4\n"
          ]
        }
      ]
    },
    {
      "cell_type": "markdown",
      "source": [
        "#### 11) Add a new column to the dataframe called “f” which is the sum of the columns “a”, “b”, “c”, “d”, “e”. Create another column called “g”. The value in the column “g” should be “LT8” if the value in the column “f” is less than 8 and “GT8” otherwise. Find the number of rows in the dataframe where the value in the column “g” is “LT8”. Find the standard deviation of the column “f” for the rows where the value in the column “g” is “LT8” and “GT8” respectively.\n",
        "\n"
      ],
      "metadata": {
        "id": "U_U9AEu5O1Jw"
      }
    },
    {
      "cell_type": "code",
      "source": [
        "sums = df.iloc[:, :5].sum(1)  # accessing the first 5 columns and summing them\n",
        "df = df.assign(f = sums)\n",
        "df"
      ],
      "metadata": {
        "colab": {
          "base_uri": "https://localhost:8080/",
          "height": 676
        },
        "id": "nyk7C-R9PHUp",
        "outputId": "ee987b95-d1f0-4794-be6d-24d0e7c63b5d"
      },
      "execution_count": 25,
      "outputs": [
        {
          "output_type": "execute_result",
          "data": {
            "text/plain": [
              "           a         b         c         d         e         f\n",
              "0   1.808660  1.155065  1.608022  1.367219  1.191580  7.130546\n",
              "1   1.349798  1.392300  1.339742  1.299568  1.195305  6.576714\n",
              "2   1.658725  1.624809  1.949406  1.020335  1.155704  7.408980\n",
              "3   1.460383  1.629261  1.541779  1.322846  1.531676  7.485944\n",
              "4   1.364440  1.026624  1.020509  1.435747  1.279292  6.126614\n",
              "5   1.960372  1.394909  1.120094  1.089523  1.878201  7.443099\n",
              "6   1.808267  1.732380  1.800262  1.527266  1.844923  8.713098\n",
              "7   1.499519  1.353428  1.786233  1.869642  1.646154  8.154976\n",
              "8   1.032076  1.522235  1.139597  1.886715  1.796935  7.377558\n",
              "9   1.683549  1.024983  1.412770  1.312287  1.939441  7.373031\n",
              "10  1.549712  1.945013  1.102849  1.897890  1.939533  8.434997\n",
              "11  1.786550  1.211741  1.586794  1.870074  1.095637  7.550796\n",
              "12  1.383760  1.899495  1.617529  1.329850  1.657035  7.887670\n",
              "13  1.069125  1.713475  1.843289  1.319131  1.298745  7.243764\n",
              "14  1.476846  1.706566  1.454147  1.185948  1.622506  7.446014\n",
              "15  1.368984  1.774216  1.225419  1.259501  1.638819  7.266938\n",
              "16  1.811869  1.471065  1.326066  1.572528  1.565939  7.747468\n",
              "17  1.187683  1.370392  1.854176  1.573752  1.730138  7.716141\n",
              "18  1.854988  1.502547  1.187630  1.462924  1.210463  7.218552\n",
              "19  1.569337  1.119158  1.396625  1.967300  1.078110  7.130530"
            ],
            "text/html": [
              "\n",
              "  <div id=\"df-f0332f8a-2bfe-4b55-a4df-6988314e6687\" class=\"colab-df-container\">\n",
              "    <div>\n",
              "<style scoped>\n",
              "    .dataframe tbody tr th:only-of-type {\n",
              "        vertical-align: middle;\n",
              "    }\n",
              "\n",
              "    .dataframe tbody tr th {\n",
              "        vertical-align: top;\n",
              "    }\n",
              "\n",
              "    .dataframe thead th {\n",
              "        text-align: right;\n",
              "    }\n",
              "</style>\n",
              "<table border=\"1\" class=\"dataframe\">\n",
              "  <thead>\n",
              "    <tr style=\"text-align: right;\">\n",
              "      <th></th>\n",
              "      <th>a</th>\n",
              "      <th>b</th>\n",
              "      <th>c</th>\n",
              "      <th>d</th>\n",
              "      <th>e</th>\n",
              "      <th>f</th>\n",
              "    </tr>\n",
              "  </thead>\n",
              "  <tbody>\n",
              "    <tr>\n",
              "      <th>0</th>\n",
              "      <td>1.808660</td>\n",
              "      <td>1.155065</td>\n",
              "      <td>1.608022</td>\n",
              "      <td>1.367219</td>\n",
              "      <td>1.191580</td>\n",
              "      <td>7.130546</td>\n",
              "    </tr>\n",
              "    <tr>\n",
              "      <th>1</th>\n",
              "      <td>1.349798</td>\n",
              "      <td>1.392300</td>\n",
              "      <td>1.339742</td>\n",
              "      <td>1.299568</td>\n",
              "      <td>1.195305</td>\n",
              "      <td>6.576714</td>\n",
              "    </tr>\n",
              "    <tr>\n",
              "      <th>2</th>\n",
              "      <td>1.658725</td>\n",
              "      <td>1.624809</td>\n",
              "      <td>1.949406</td>\n",
              "      <td>1.020335</td>\n",
              "      <td>1.155704</td>\n",
              "      <td>7.408980</td>\n",
              "    </tr>\n",
              "    <tr>\n",
              "      <th>3</th>\n",
              "      <td>1.460383</td>\n",
              "      <td>1.629261</td>\n",
              "      <td>1.541779</td>\n",
              "      <td>1.322846</td>\n",
              "      <td>1.531676</td>\n",
              "      <td>7.485944</td>\n",
              "    </tr>\n",
              "    <tr>\n",
              "      <th>4</th>\n",
              "      <td>1.364440</td>\n",
              "      <td>1.026624</td>\n",
              "      <td>1.020509</td>\n",
              "      <td>1.435747</td>\n",
              "      <td>1.279292</td>\n",
              "      <td>6.126614</td>\n",
              "    </tr>\n",
              "    <tr>\n",
              "      <th>5</th>\n",
              "      <td>1.960372</td>\n",
              "      <td>1.394909</td>\n",
              "      <td>1.120094</td>\n",
              "      <td>1.089523</td>\n",
              "      <td>1.878201</td>\n",
              "      <td>7.443099</td>\n",
              "    </tr>\n",
              "    <tr>\n",
              "      <th>6</th>\n",
              "      <td>1.808267</td>\n",
              "      <td>1.732380</td>\n",
              "      <td>1.800262</td>\n",
              "      <td>1.527266</td>\n",
              "      <td>1.844923</td>\n",
              "      <td>8.713098</td>\n",
              "    </tr>\n",
              "    <tr>\n",
              "      <th>7</th>\n",
              "      <td>1.499519</td>\n",
              "      <td>1.353428</td>\n",
              "      <td>1.786233</td>\n",
              "      <td>1.869642</td>\n",
              "      <td>1.646154</td>\n",
              "      <td>8.154976</td>\n",
              "    </tr>\n",
              "    <tr>\n",
              "      <th>8</th>\n",
              "      <td>1.032076</td>\n",
              "      <td>1.522235</td>\n",
              "      <td>1.139597</td>\n",
              "      <td>1.886715</td>\n",
              "      <td>1.796935</td>\n",
              "      <td>7.377558</td>\n",
              "    </tr>\n",
              "    <tr>\n",
              "      <th>9</th>\n",
              "      <td>1.683549</td>\n",
              "      <td>1.024983</td>\n",
              "      <td>1.412770</td>\n",
              "      <td>1.312287</td>\n",
              "      <td>1.939441</td>\n",
              "      <td>7.373031</td>\n",
              "    </tr>\n",
              "    <tr>\n",
              "      <th>10</th>\n",
              "      <td>1.549712</td>\n",
              "      <td>1.945013</td>\n",
              "      <td>1.102849</td>\n",
              "      <td>1.897890</td>\n",
              "      <td>1.939533</td>\n",
              "      <td>8.434997</td>\n",
              "    </tr>\n",
              "    <tr>\n",
              "      <th>11</th>\n",
              "      <td>1.786550</td>\n",
              "      <td>1.211741</td>\n",
              "      <td>1.586794</td>\n",
              "      <td>1.870074</td>\n",
              "      <td>1.095637</td>\n",
              "      <td>7.550796</td>\n",
              "    </tr>\n",
              "    <tr>\n",
              "      <th>12</th>\n",
              "      <td>1.383760</td>\n",
              "      <td>1.899495</td>\n",
              "      <td>1.617529</td>\n",
              "      <td>1.329850</td>\n",
              "      <td>1.657035</td>\n",
              "      <td>7.887670</td>\n",
              "    </tr>\n",
              "    <tr>\n",
              "      <th>13</th>\n",
              "      <td>1.069125</td>\n",
              "      <td>1.713475</td>\n",
              "      <td>1.843289</td>\n",
              "      <td>1.319131</td>\n",
              "      <td>1.298745</td>\n",
              "      <td>7.243764</td>\n",
              "    </tr>\n",
              "    <tr>\n",
              "      <th>14</th>\n",
              "      <td>1.476846</td>\n",
              "      <td>1.706566</td>\n",
              "      <td>1.454147</td>\n",
              "      <td>1.185948</td>\n",
              "      <td>1.622506</td>\n",
              "      <td>7.446014</td>\n",
              "    </tr>\n",
              "    <tr>\n",
              "      <th>15</th>\n",
              "      <td>1.368984</td>\n",
              "      <td>1.774216</td>\n",
              "      <td>1.225419</td>\n",
              "      <td>1.259501</td>\n",
              "      <td>1.638819</td>\n",
              "      <td>7.266938</td>\n",
              "    </tr>\n",
              "    <tr>\n",
              "      <th>16</th>\n",
              "      <td>1.811869</td>\n",
              "      <td>1.471065</td>\n",
              "      <td>1.326066</td>\n",
              "      <td>1.572528</td>\n",
              "      <td>1.565939</td>\n",
              "      <td>7.747468</td>\n",
              "    </tr>\n",
              "    <tr>\n",
              "      <th>17</th>\n",
              "      <td>1.187683</td>\n",
              "      <td>1.370392</td>\n",
              "      <td>1.854176</td>\n",
              "      <td>1.573752</td>\n",
              "      <td>1.730138</td>\n",
              "      <td>7.716141</td>\n",
              "    </tr>\n",
              "    <tr>\n",
              "      <th>18</th>\n",
              "      <td>1.854988</td>\n",
              "      <td>1.502547</td>\n",
              "      <td>1.187630</td>\n",
              "      <td>1.462924</td>\n",
              "      <td>1.210463</td>\n",
              "      <td>7.218552</td>\n",
              "    </tr>\n",
              "    <tr>\n",
              "      <th>19</th>\n",
              "      <td>1.569337</td>\n",
              "      <td>1.119158</td>\n",
              "      <td>1.396625</td>\n",
              "      <td>1.967300</td>\n",
              "      <td>1.078110</td>\n",
              "      <td>7.130530</td>\n",
              "    </tr>\n",
              "  </tbody>\n",
              "</table>\n",
              "</div>\n",
              "    <div class=\"colab-df-buttons\">\n",
              "\n",
              "  <div class=\"colab-df-container\">\n",
              "    <button class=\"colab-df-convert\" onclick=\"convertToInteractive('df-f0332f8a-2bfe-4b55-a4df-6988314e6687')\"\n",
              "            title=\"Convert this dataframe to an interactive table.\"\n",
              "            style=\"display:none;\">\n",
              "\n",
              "  <svg xmlns=\"http://www.w3.org/2000/svg\" height=\"24px\" viewBox=\"0 -960 960 960\">\n",
              "    <path d=\"M120-120v-720h720v720H120Zm60-500h600v-160H180v160Zm220 220h160v-160H400v160Zm0 220h160v-160H400v160ZM180-400h160v-160H180v160Zm440 0h160v-160H620v160ZM180-180h160v-160H180v160Zm440 0h160v-160H620v160Z\"/>\n",
              "  </svg>\n",
              "    </button>\n",
              "\n",
              "  <style>\n",
              "    .colab-df-container {\n",
              "      display:flex;\n",
              "      gap: 12px;\n",
              "    }\n",
              "\n",
              "    .colab-df-convert {\n",
              "      background-color: #E8F0FE;\n",
              "      border: none;\n",
              "      border-radius: 50%;\n",
              "      cursor: pointer;\n",
              "      display: none;\n",
              "      fill: #1967D2;\n",
              "      height: 32px;\n",
              "      padding: 0 0 0 0;\n",
              "      width: 32px;\n",
              "    }\n",
              "\n",
              "    .colab-df-convert:hover {\n",
              "      background-color: #E2EBFA;\n",
              "      box-shadow: 0px 1px 2px rgba(60, 64, 67, 0.3), 0px 1px 3px 1px rgba(60, 64, 67, 0.15);\n",
              "      fill: #174EA6;\n",
              "    }\n",
              "\n",
              "    .colab-df-buttons div {\n",
              "      margin-bottom: 4px;\n",
              "    }\n",
              "\n",
              "    [theme=dark] .colab-df-convert {\n",
              "      background-color: #3B4455;\n",
              "      fill: #D2E3FC;\n",
              "    }\n",
              "\n",
              "    [theme=dark] .colab-df-convert:hover {\n",
              "      background-color: #434B5C;\n",
              "      box-shadow: 0px 1px 3px 1px rgba(0, 0, 0, 0.15);\n",
              "      filter: drop-shadow(0px 1px 2px rgba(0, 0, 0, 0.3));\n",
              "      fill: #FFFFFF;\n",
              "    }\n",
              "  </style>\n",
              "\n",
              "    <script>\n",
              "      const buttonEl =\n",
              "        document.querySelector('#df-f0332f8a-2bfe-4b55-a4df-6988314e6687 button.colab-df-convert');\n",
              "      buttonEl.style.display =\n",
              "        google.colab.kernel.accessAllowed ? 'block' : 'none';\n",
              "\n",
              "      async function convertToInteractive(key) {\n",
              "        const element = document.querySelector('#df-f0332f8a-2bfe-4b55-a4df-6988314e6687');\n",
              "        const dataTable =\n",
              "          await google.colab.kernel.invokeFunction('convertToInteractive',\n",
              "                                                    [key], {});\n",
              "        if (!dataTable) return;\n",
              "\n",
              "        const docLinkHtml = 'Like what you see? Visit the ' +\n",
              "          '<a target=\"_blank\" href=https://colab.research.google.com/notebooks/data_table.ipynb>data table notebook</a>'\n",
              "          + ' to learn more about interactive tables.';\n",
              "        element.innerHTML = '';\n",
              "        dataTable['output_type'] = 'display_data';\n",
              "        await google.colab.output.renderOutput(dataTable, element);\n",
              "        const docLink = document.createElement('div');\n",
              "        docLink.innerHTML = docLinkHtml;\n",
              "        element.appendChild(docLink);\n",
              "      }\n",
              "    </script>\n",
              "  </div>\n",
              "\n",
              "\n",
              "<div id=\"df-5bafad73-46cb-4f78-aef8-b36e60de43c9\">\n",
              "  <button class=\"colab-df-quickchart\" onclick=\"quickchart('df-5bafad73-46cb-4f78-aef8-b36e60de43c9')\"\n",
              "            title=\"Suggest charts\"\n",
              "            style=\"display:none;\">\n",
              "\n",
              "<svg xmlns=\"http://www.w3.org/2000/svg\" height=\"24px\"viewBox=\"0 0 24 24\"\n",
              "     width=\"24px\">\n",
              "    <g>\n",
              "        <path d=\"M19 3H5c-1.1 0-2 .9-2 2v14c0 1.1.9 2 2 2h14c1.1 0 2-.9 2-2V5c0-1.1-.9-2-2-2zM9 17H7v-7h2v7zm4 0h-2V7h2v10zm4 0h-2v-4h2v4z\"/>\n",
              "    </g>\n",
              "</svg>\n",
              "  </button>\n",
              "\n",
              "<style>\n",
              "  .colab-df-quickchart {\n",
              "      --bg-color: #E8F0FE;\n",
              "      --fill-color: #1967D2;\n",
              "      --hover-bg-color: #E2EBFA;\n",
              "      --hover-fill-color: #174EA6;\n",
              "      --disabled-fill-color: #AAA;\n",
              "      --disabled-bg-color: #DDD;\n",
              "  }\n",
              "\n",
              "  [theme=dark] .colab-df-quickchart {\n",
              "      --bg-color: #3B4455;\n",
              "      --fill-color: #D2E3FC;\n",
              "      --hover-bg-color: #434B5C;\n",
              "      --hover-fill-color: #FFFFFF;\n",
              "      --disabled-bg-color: #3B4455;\n",
              "      --disabled-fill-color: #666;\n",
              "  }\n",
              "\n",
              "  .colab-df-quickchart {\n",
              "    background-color: var(--bg-color);\n",
              "    border: none;\n",
              "    border-radius: 50%;\n",
              "    cursor: pointer;\n",
              "    display: none;\n",
              "    fill: var(--fill-color);\n",
              "    height: 32px;\n",
              "    padding: 0;\n",
              "    width: 32px;\n",
              "  }\n",
              "\n",
              "  .colab-df-quickchart:hover {\n",
              "    background-color: var(--hover-bg-color);\n",
              "    box-shadow: 0 1px 2px rgba(60, 64, 67, 0.3), 0 1px 3px 1px rgba(60, 64, 67, 0.15);\n",
              "    fill: var(--button-hover-fill-color);\n",
              "  }\n",
              "\n",
              "  .colab-df-quickchart-complete:disabled,\n",
              "  .colab-df-quickchart-complete:disabled:hover {\n",
              "    background-color: var(--disabled-bg-color);\n",
              "    fill: var(--disabled-fill-color);\n",
              "    box-shadow: none;\n",
              "  }\n",
              "\n",
              "  .colab-df-spinner {\n",
              "    border: 2px solid var(--fill-color);\n",
              "    border-color: transparent;\n",
              "    border-bottom-color: var(--fill-color);\n",
              "    animation:\n",
              "      spin 1s steps(1) infinite;\n",
              "  }\n",
              "\n",
              "  @keyframes spin {\n",
              "    0% {\n",
              "      border-color: transparent;\n",
              "      border-bottom-color: var(--fill-color);\n",
              "      border-left-color: var(--fill-color);\n",
              "    }\n",
              "    20% {\n",
              "      border-color: transparent;\n",
              "      border-left-color: var(--fill-color);\n",
              "      border-top-color: var(--fill-color);\n",
              "    }\n",
              "    30% {\n",
              "      border-color: transparent;\n",
              "      border-left-color: var(--fill-color);\n",
              "      border-top-color: var(--fill-color);\n",
              "      border-right-color: var(--fill-color);\n",
              "    }\n",
              "    40% {\n",
              "      border-color: transparent;\n",
              "      border-right-color: var(--fill-color);\n",
              "      border-top-color: var(--fill-color);\n",
              "    }\n",
              "    60% {\n",
              "      border-color: transparent;\n",
              "      border-right-color: var(--fill-color);\n",
              "    }\n",
              "    80% {\n",
              "      border-color: transparent;\n",
              "      border-right-color: var(--fill-color);\n",
              "      border-bottom-color: var(--fill-color);\n",
              "    }\n",
              "    90% {\n",
              "      border-color: transparent;\n",
              "      border-bottom-color: var(--fill-color);\n",
              "    }\n",
              "  }\n",
              "</style>\n",
              "\n",
              "  <script>\n",
              "    async function quickchart(key) {\n",
              "      const quickchartButtonEl =\n",
              "        document.querySelector('#' + key + ' button');\n",
              "      quickchartButtonEl.disabled = true;  // To prevent multiple clicks.\n",
              "      quickchartButtonEl.classList.add('colab-df-spinner');\n",
              "      try {\n",
              "        const charts = await google.colab.kernel.invokeFunction(\n",
              "            'suggestCharts', [key], {});\n",
              "      } catch (error) {\n",
              "        console.error('Error during call to suggestCharts:', error);\n",
              "      }\n",
              "      quickchartButtonEl.classList.remove('colab-df-spinner');\n",
              "      quickchartButtonEl.classList.add('colab-df-quickchart-complete');\n",
              "    }\n",
              "    (() => {\n",
              "      let quickchartButtonEl =\n",
              "        document.querySelector('#df-5bafad73-46cb-4f78-aef8-b36e60de43c9 button');\n",
              "      quickchartButtonEl.style.display =\n",
              "        google.colab.kernel.accessAllowed ? 'block' : 'none';\n",
              "    })();\n",
              "  </script>\n",
              "</div>\n",
              "\n",
              "  <div id=\"id_6a4f5595-4fb2-4b2c-8fe5-91f6dc942289\">\n",
              "    <style>\n",
              "      .colab-df-generate {\n",
              "        background-color: #E8F0FE;\n",
              "        border: none;\n",
              "        border-radius: 50%;\n",
              "        cursor: pointer;\n",
              "        display: none;\n",
              "        fill: #1967D2;\n",
              "        height: 32px;\n",
              "        padding: 0 0 0 0;\n",
              "        width: 32px;\n",
              "      }\n",
              "\n",
              "      .colab-df-generate:hover {\n",
              "        background-color: #E2EBFA;\n",
              "        box-shadow: 0px 1px 2px rgba(60, 64, 67, 0.3), 0px 1px 3px 1px rgba(60, 64, 67, 0.15);\n",
              "        fill: #174EA6;\n",
              "      }\n",
              "\n",
              "      [theme=dark] .colab-df-generate {\n",
              "        background-color: #3B4455;\n",
              "        fill: #D2E3FC;\n",
              "      }\n",
              "\n",
              "      [theme=dark] .colab-df-generate:hover {\n",
              "        background-color: #434B5C;\n",
              "        box-shadow: 0px 1px 3px 1px rgba(0, 0, 0, 0.15);\n",
              "        filter: drop-shadow(0px 1px 2px rgba(0, 0, 0, 0.3));\n",
              "        fill: #FFFFFF;\n",
              "      }\n",
              "    </style>\n",
              "    <button class=\"colab-df-generate\" onclick=\"generateWithVariable('df')\"\n",
              "            title=\"Generate code using this dataframe.\"\n",
              "            style=\"display:none;\">\n",
              "\n",
              "  <svg xmlns=\"http://www.w3.org/2000/svg\" height=\"24px\"viewBox=\"0 0 24 24\"\n",
              "       width=\"24px\">\n",
              "    <path d=\"M7,19H8.4L18.45,9,17,7.55,7,17.6ZM5,21V16.75L18.45,3.32a2,2,0,0,1,2.83,0l1.4,1.43a1.91,1.91,0,0,1,.58,1.4,1.91,1.91,0,0,1-.58,1.4L9.25,21ZM18.45,9,17,7.55Zm-12,3A5.31,5.31,0,0,0,4.9,8.1,5.31,5.31,0,0,0,1,6.5,5.31,5.31,0,0,0,4.9,4.9,5.31,5.31,0,0,0,6.5,1,5.31,5.31,0,0,0,8.1,4.9,5.31,5.31,0,0,0,12,6.5,5.46,5.46,0,0,0,6.5,12Z\"/>\n",
              "  </svg>\n",
              "    </button>\n",
              "    <script>\n",
              "      (() => {\n",
              "      const buttonEl =\n",
              "        document.querySelector('#id_6a4f5595-4fb2-4b2c-8fe5-91f6dc942289 button.colab-df-generate');\n",
              "      buttonEl.style.display =\n",
              "        google.colab.kernel.accessAllowed ? 'block' : 'none';\n",
              "\n",
              "      buttonEl.onclick = () => {\n",
              "        google.colab.notebook.generateWithVariable('df');\n",
              "      }\n",
              "      })();\n",
              "    </script>\n",
              "  </div>\n",
              "\n",
              "    </div>\n",
              "  </div>\n"
            ],
            "application/vnd.google.colaboratory.intrinsic+json": {
              "type": "dataframe",
              "variable_name": "df",
              "summary": "{\n  \"name\": \"df\",\n  \"rows\": 20,\n  \"fields\": [\n    {\n      \"column\": \"a\",\n      \"properties\": {\n        \"dtype\": \"number\",\n        \"std\": 0.26419943282144065,\n        \"min\": 1.0320755386023726,\n        \"max\": 1.9603716620220482,\n        \"num_unique_values\": 20,\n        \"samples\": [\n          1.8086599557179528,\n          1.187683315311428,\n          1.3689836420192631\n        ],\n        \"semantic_type\": \"\",\n        \"description\": \"\"\n      }\n    },\n    {\n      \"column\": \"b\",\n      \"properties\": {\n        \"dtype\": \"number\",\n        \"std\": 0.2769378764314717,\n        \"min\": 1.0249832551740403,\n        \"max\": 1.9450126363044535,\n        \"num_unique_values\": 20,\n        \"samples\": [\n          1.1550653318346567,\n          1.3703918145595102,\n          1.7742161982119453\n        ],\n        \"semantic_type\": \"\",\n        \"description\": \"\"\n      }\n    },\n    {\n      \"column\": \"c\",\n      \"properties\": {\n        \"dtype\": \"number\",\n        \"std\": 0.28466601462654223,\n        \"min\": 1.020509341645947,\n        \"max\": 1.9494063825583536,\n        \"num_unique_values\": 20,\n        \"samples\": [\n          1.608022344717839,\n          1.8541761446274914,\n          1.2254188802648738\n        ],\n        \"semantic_type\": \"\",\n        \"description\": \"\"\n      }\n    },\n    {\n      \"column\": \"d\",\n      \"properties\": {\n        \"dtype\": \"number\",\n        \"std\": 0.285496218867113,\n        \"min\": 1.0203346026572837,\n        \"max\": 1.967299929142888,\n        \"num_unique_values\": 20,\n        \"samples\": [\n          1.3672188835179857,\n          1.5737515387861012,\n          1.2595008594516588\n        ],\n        \"semantic_type\": \"\",\n        \"description\": \"\"\n      }\n    },\n    {\n      \"column\": \"e\",\n      \"properties\": {\n        \"dtype\": \"number\",\n        \"std\": 0.2983952650052659,\n        \"min\": 1.0781103887568735,\n        \"max\": 1.9395327751064078,\n        \"num_unique_values\": 20,\n        \"samples\": [\n          1.1915797501911372,\n          1.7301379380489352,\n          1.6388187718426388\n        ],\n        \"semantic_type\": \"\",\n        \"description\": \"\"\n      }\n    },\n    {\n      \"column\": \"f\",\n      \"properties\": {\n        \"dtype\": \"number\",\n        \"std\": 0.5747393133540677,\n        \"min\": 6.126613666144655,\n        \"max\": 8.713097774412837,\n        \"num_unique_values\": 20,\n        \"samples\": [\n          7.1305462659795715,\n          7.716140751333466,\n          7.26693835179038\n        ],\n        \"semantic_type\": \"\",\n        \"description\": \"\"\n      }\n    }\n  ]\n}"
            }
          },
          "metadata": {},
          "execution_count": 25
        }
      ]
    },
    {
      "cell_type": "code",
      "source": [
        "# adding column g with a conditional value\n",
        "df['g'] = [\"LT8\" if f < 8 else \"GT8\" for f in df['f']]\n",
        "print(df)\n",
        "# for finding number of rows with LT8\n",
        "num_rows_lt8 = len(df.loc[df['g'] == 'LT8'])\n",
        "print(\"Number of rows with g = LT8:\", num_rows_lt8)"
      ],
      "metadata": {
        "colab": {
          "base_uri": "https://localhost:8080/"
        },
        "id": "pMhVAjMWRIkw",
        "outputId": "e0fd25e1-eee1-4696-c90e-3de4656747f0"
      },
      "execution_count": 37,
      "outputs": [
        {
          "output_type": "stream",
          "name": "stdout",
          "text": [
            "           a         b         c         d         e         f    g\n",
            "0   1.808660  1.155065  1.608022  1.367219  1.191580  7.130546  LT8\n",
            "1   1.349798  1.392300  1.339742  1.299568  1.195305  6.576714  LT8\n",
            "2   1.658725  1.624809  1.949406  1.020335  1.155704  7.408980  LT8\n",
            "3   1.460383  1.629261  1.541779  1.322846  1.531676  7.485944  LT8\n",
            "4   1.364440  1.026624  1.020509  1.435747  1.279292  6.126614  LT8\n",
            "5   1.960372  1.394909  1.120094  1.089523  1.878201  7.443099  LT8\n",
            "6   1.808267  1.732380  1.800262  1.527266  1.844923  8.713098  GT8\n",
            "7   1.499519  1.353428  1.786233  1.869642  1.646154  8.154976  GT8\n",
            "8   1.032076  1.522235  1.139597  1.886715  1.796935  7.377558  LT8\n",
            "9   1.683549  1.024983  1.412770  1.312287  1.939441  7.373031  LT8\n",
            "10  1.549712  1.945013  1.102849  1.897890  1.939533  8.434997  GT8\n",
            "11  1.786550  1.211741  1.586794  1.870074  1.095637  7.550796  LT8\n",
            "12  1.383760  1.899495  1.617529  1.329850  1.657035  7.887670  LT8\n",
            "13  1.069125  1.713475  1.843289  1.319131  1.298745  7.243764  LT8\n",
            "14  1.476846  1.706566  1.454147  1.185948  1.622506  7.446014  LT8\n",
            "15  1.368984  1.774216  1.225419  1.259501  1.638819  7.266938  LT8\n",
            "16  1.811869  1.471065  1.326066  1.572528  1.565939  7.747468  LT8\n",
            "17  1.187683  1.370392  1.854176  1.573752  1.730138  7.716141  LT8\n",
            "18  1.854988  1.502547  1.187630  1.462924  1.210463  7.218552  LT8\n",
            "19  1.569337  1.119158  1.396625  1.967300  1.078110  7.130530  LT8\n",
            "Number of rows with g = LT8: 17\n"
          ]
        }
      ]
    },
    {
      "cell_type": "code",
      "source": [
        "# for finding standard deviation of f where g = LT8 or GT8 respectively\n",
        "df_lt8 = df[df['g'] == 'LT8']['f']\n",
        "print(df_lt8)\n",
        "dev_lt8 = df_lt8.std()\n",
        "print(\"Standard dev of 'f' where g=LT8:\", dev_lt8)\n",
        "df_gt8 = df[df['g'] == 'GT8']['f']\n",
        "print(df_gt8)\n",
        "dev_lt8 = df_gt8.std()\n",
        "print(\"Standard dev of 'f' where g=GT8:\", dev_lt8)"
      ],
      "metadata": {
        "colab": {
          "base_uri": "https://localhost:8080/"
        },
        "id": "_i30phqaVS-Q",
        "outputId": "e4b93763-88d5-4c7c-9643-1b12200a01cc"
      },
      "execution_count": 41,
      "outputs": [
        {
          "output_type": "stream",
          "name": "stdout",
          "text": [
            "0     7.130546\n",
            "1     6.576714\n",
            "2     7.408980\n",
            "3     7.485944\n",
            "4     6.126614\n",
            "5     7.443099\n",
            "8     7.377558\n",
            "9     7.373031\n",
            "11    7.550796\n",
            "12    7.887670\n",
            "13    7.243764\n",
            "14    7.446014\n",
            "15    7.266938\n",
            "16    7.747468\n",
            "17    7.716141\n",
            "18    7.218552\n",
            "19    7.130530\n",
            "Name: f, dtype: float64\n",
            "Standard dev of 'f' where g=LT8: 0.4220116008935627\n",
            "6     8.713098\n",
            "7     8.154976\n",
            "10    8.434997\n",
            "Name: f, dtype: float64\n",
            "Standard dev of 'f' where g=GT8: 0.2790613775455823\n"
          ]
        }
      ]
    },
    {
      "cell_type": "markdown",
      "source": [
        "#### 12) Write a small piece of code to explain broadcasting in numpy.\n",
        "\n"
      ],
      "metadata": {
        "id": "fJ4xA_bX0JNP"
      }
    },
    {
      "cell_type": "markdown",
      "source": [
        "The term broadcasting describes how NumPy treats arrays with different shapes during arithmetic operations. Subject to certain constraints, the smaller array is “broadcast” across the larger array so that they have compatible shapes. Broadcasting provides a means of vectorizing array operations so that looping occurs in C instead of Python. It does this without making needless copies of data and usually leads to efficient algorithm implementations. There are, however, cases where broadcasting is a bad idea because it leads to inefficient use of memory that slows computation.\n",
        "\n",
        "When operating on two arrays, NumPy compares their shapes element-wise. It starts with the trailing (i.e. rightmost) dimension and works its way left. Two dimensions are compatible when\n",
        "\n",
        "*   they are equal, or\n",
        "*   one of them is 1.\n",
        "\n",
        "\n",
        "\n",
        "\n",
        "\n",
        "\n"
      ],
      "metadata": {
        "id": "jZsDwbM8W3Pc"
      }
    },
    {
      "cell_type": "code",
      "source": [
        "a = np.array([1.0, 2.0, 3.0])\n",
        "b = 2.0\n",
        "res = a * b\n",
        "print(\"array a:\", a)\n",
        "print(\"scalar b:\", b)\n",
        "print(\"result:\", res)"
      ],
      "metadata": {
        "colab": {
          "base_uri": "https://localhost:8080/"
        },
        "id": "XDHoykwRWyCf",
        "outputId": "55227eee-f95c-4c1b-be57-d4264ba96d5f"
      },
      "execution_count": 43,
      "outputs": [
        {
          "output_type": "stream",
          "name": "stdout",
          "text": [
            "array a: [1. 2. 3.]\n",
            "scalar b: 2.0\n",
            "result: [2. 4. 6.]\n"
          ]
        }
      ]
    },
    {
      "cell_type": "markdown",
      "source": [
        "#### 13) Write a function to compute the `argmin` of a numpy array. The function should take a numpy array as input and return the index of the minimum element. You can use the `np.argmin` function to verify your solution."
      ],
      "metadata": {
        "id": "XuOG1rsuYWqU"
      }
    },
    {
      "cell_type": "code",
      "source": [
        "arr = np.array([28,52,13,59,23,43,90,34,88,47])\n",
        "\n",
        "argmin = 0\n",
        "min = np.inf\n",
        "\n",
        "for i in range(len(arr)):\n",
        "  if arr[i] < min:\n",
        "    min = arr[i]\n",
        "    argmin = i\n",
        "\n",
        "print(f\"index of minimum element found manually: {argmin}\")\n",
        "print(f\"index of minimum element found by np.argmin function: {np.argmin(arr)}\")"
      ],
      "metadata": {
        "colab": {
          "base_uri": "https://localhost:8080/"
        },
        "id": "h3lA32JXYZRP",
        "outputId": "a416b329-1774-4f0f-f369-0f1854c6a20b"
      },
      "execution_count": 5,
      "outputs": [
        {
          "output_type": "stream",
          "name": "stdout",
          "text": [
            "index of minimum element found manually: 2\n",
            "index of minimum element found by np.argmin function: 2\n"
          ]
        }
      ]
    }
  ]
}